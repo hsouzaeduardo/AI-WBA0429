{
 "cells": [
  {
   "cell_type": "code",
   "execution_count": null,
   "metadata": {},
   "outputs": [],
   "source": [
    "!pip install azure-search-documents==11.4.0b6\n",
    "!pip install azure-identity\n",
    "!pip install langchain==0.0.248\n",
    "!pip install openai==0.27.8\n",
    "!pip install python-dotenv==1.0.0\n",
    "!pip install uvicorn==0.23.2\n",
    "!pip install fastapi==0.100.1\n",
    "!pip install tiktoken\n",
    "!pip install pypdf"
   ]
  },
  {
   "cell_type": "code",
   "execution_count": null,
   "metadata": {},
   "outputs": [],
   "source": [
    "import os\n",
    "import openai\n",
    "from dotenv import load_dotenv\n",
    "from langchain.chat_models import ChatOpenAI\n",
    "from langchain.chains import RetrievalQA\n",
    "from langchain.embeddings.openai import OpenAIEmbeddings\n",
    "from langchain.vectorstores.azuresearch import AzureSearch\n",
    "from langchain.document_loaders import PyPDFDirectoryLoader\n",
    "from langchain.text_splitter import CharacterTextSplitter\n",
    "from langchain.agents import initialize_agent, Tool, AgentType\n",
    "\n",
    "openai_api_key = \"{OpenAIKEY}\"\n",
    "openai_env= \"{OpenAIENVURL}\"\n",
    "openai_model = \"text-embedding-ada-002\"\n",
    "azure_search_endpoint = \"{CosmosDBURL}\"\n",
    "azure_search_key =\"{CosmosDBKEY}\"\n",
    "load_dotenv(verbose=True)\n",
    "\n",
    "openai.api_type = \"azure\"\n",
    "openai.api_version = \"2023-03-15-preview\"\n",
    "openai.api_key = openai_api_key\n",
    "openai.api_base = openai_env\n",
    "model: str = openai_model"
   ]
  },
  {
   "cell_type": "code",
   "execution_count": null,
   "metadata": {},
   "outputs": [],
   "source": [
    "embeddings = OpenAIEmbeddings(deployment=openai_model, openai_api_key=openai_api_key, model=openai_model)\n",
    "embeddings: OpenAIEmbeddings = OpenAIEmbeddings(openai_api_key=openai_api_key, deployment=model, model=model, chunk_size=1, openai_api_base=openai_env, openai_api_type=\"azure\" )\n",
    "index_name: str = \"lab-ai-001\" #banco de dados em vetor\n",
    "vector_store: AzureSearch = AzureSearch(\n",
    "    azure_search_endpoint=azure_search_endpoint,\n",
    "    azure_search_key=azure_search_key,\n",
    "    index_name=index_name,\n",
    "    embedding_function=embeddings.embed_query,\n",
    ")\n",
    "\n",
    "vector_store = AzureSearch(\n",
    "    azure_search_endpoint= azure_search_endpoint,\n",
    "    azure_search_key= azure_search_key,\n",
    "    index_name=\"lab-ai-001\",\n",
    "    embedding_function=embeddings.embed_query,\n",
    ")\n"
   ]
  },
  {
   "cell_type": "code",
   "execution_count": null,
   "metadata": {},
   "outputs": [],
   "source": [
    "loader = PyPDFDirectoryLoader(\"pdfs\")\n",
    "documents = loader.load()\n",
    "text_splitter = CharacterTextSplitter(chunk_size=1000, chunk_overlap=0)\n",
    "docs = text_splitter.split_documents(documents)\n",
    "vector_store.add_documents(documents=docs);"
   ]
  },
  {
   "cell_type": "code",
   "execution_count": null,
   "metadata": {},
   "outputs": [],
   "source": [
    "llm = ChatOpenAI(engine='gpt4', verbose=False,openai_api_key=openai_api_key)\n",
    "qa = RetrievalQA.from_chain_type(\n",
    "    llm=llm,\n",
    "    chain_type=\"stuff\",\n",
    "    retriever=vector_store.as_retriever(),\n",
    "    return_source_documents=True\n",
    ")"
   ]
  },
  {
   "cell_type": "code",
   "execution_count": null,
   "metadata": {},
   "outputs": [],
   "source": [
    "query = \"\"\n",
    "result = qa({\"query\": query})\n",
    "result[\"result\"]"
   ]
  }
 ],
 "metadata": {
  "language_info": {
   "name": "python"
  }
 },
 "nbformat": 4,
 "nbformat_minor": 2
}
