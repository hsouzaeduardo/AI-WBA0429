{
 "cells": [
  {
   "cell_type": "code",
   "execution_count": null,
   "metadata": {},
   "outputs": [],
   "source": [
    "\n",
    "\n",
    "\n",
    "\n",
    "\n",
    "\n",
    "\n",
    "\n",
    "\n",
    "# Importações de bibliotecas necessárias para análise e visualização de dados, além de aprendizado de máquina.\n",
    "import matplotlib.pyplot as plt  # Para a criação de gráficos.\n",
    "import numpy as np  # Biblioteca para operações matemáticas complexas e manipulação de arrays.\n",
    "from sklearn.linear_model import LinearRegression  # Para a criação do modelo de regressão linear.\n",
    "from sklearn.metrics import mean_squared_error, r2_score  # Para calcular métricas de avaliação do modelo.\n",
    "\n",
    "# Dados fornecidos pelo usuário, onde os gastos com publicidade estão em milhares de dólares e as vendas em unidades.\n",
    "gastos_publicidade = [1.5, 2.0, 2.5, 3.0, 3.5, 4.0, 4.5, 5.0, 5.5, 6.0, 6.5, 7.0]\n",
    "licencas_vendidas = [50, 55, 60, 68, 72, 80, 85, 88, 90, 95, 100, 105]\n",
    "\n",
    "# Conversão das listas em arrays numpy, formato necessário para uso com scikit-learn, e ajuste para valores em reais.\n",
    "X = np.array(gastos_publicidade).reshape(-1, 1) * 1000  # Gastos com publicidade em Real\n",
    "y = np.array(licencas_vendidas)  # Número de licenças vendidas.\n",
    "\n",
    "# Criação do modelo de regressão linear utilizando a biblioteca scikit-learn.\n",
    "modelo = LinearRegression()\n",
    "modelo.fit(X, y)  # Treinamento do modelo.\n",
    "\n",
    "y_pred = modelo.predict(X)  # Predição dos valores de y com base nos valores de X.\n",
    "mse = mean_squared_error(y, y_pred)  # Cálculo do erro quadrático médio.\n",
    "r2 = r2_score(y, y_pred)  # Cálculo do coeficiente de determinação.\n",
    "\n",
    "# Geração e configuração do gráfico para visualizar os dados e a linha de regressão.\n",
    "plt.figure(figsize=(10, 6))  # Definição do tamanho da figura do gráfico.\n",
    "plt.scatter(X, y, color='blue', label='Dados reais')  # Gráfico de dispersão para os dados reais.\n",
    "plt.plot(X, y_pred, color='red', linewidth=2, label='Linha de regressão')  # Linha de regressão.\n",
    "\n",
    "# Adição de títulos e rótulos aos eixos do gráfico para melhor compreensão.\n",
    "plt.title('Regressão Linear - Vendas de Licenças vs. Gastos com Publicidade')\n",
    "plt.xlabel('Gastos com Publicidade (R$)')\n",
    "plt.ylabel('Licenças Vendidas')\n",
    "plt.legend()  # Inclusão de legenda no gráfico.\n",
    "plt.show()  # Exibição do gráfico.\n"
   ]
  }
 ],
 "metadata": {
  "kernelspec": {
   "display_name": "Python 3",
   "language": "python",
   "name": "python3"
  },
  "language_info": {
   "name": "python",
   "version": "3.10.11"
  }
 },
 "nbformat": 4,
 "nbformat_minor": 2
}
